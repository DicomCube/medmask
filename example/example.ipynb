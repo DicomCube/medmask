{
 "cells": [
  {
   "cell_type": "markdown",
   "metadata": {
    "vscode": {
     "languageId": "raw"
    }
   },
   "source": [
    "# MedMask 库优越性展示\n",
    "\n",
    "本示例展示了 MedMask 库在医学图像分割掩膜处理方面的优越性。\n",
    "\n",
    "## 核心优势\n",
    "\n",
    "1. **文件管理** - 117个分散文件 → 1个归档文件\n",
    "2. **存储优化** - Zstandard压缩，显著减少空间占用\n",
    "3. **语义化** - 内置名称到标签的双向映射\n",
    "4. **性能提升** - 优化的I/O和批量操作\n",
    "5. **API简洁** - 一行代码完成复杂操作\n",
    "6. **重叠掩膜** - 支持多粒度的掩膜组合\n",
    "\n",
    "## 数据\n",
    "\n",
    "使用 TotalSegmentator 的117个器官分割结果，展示两种处理方式的对比。\n"
   ]
  },
  {
   "cell_type": "code",
   "execution_count": 9,
   "metadata": {},
   "outputs": [
    {
     "name": "stdout",
     "output_type": "stream",
     "text": [
      "数据: 117 个器官文件\n",
      "图像: (294, 192, 179) @ 1.5mm\n",
      "传统总大小: 5.12 MB\n"
     ]
    }
   ],
   "source": [
    "import os\n",
    "import time\n",
    "import numpy as np\n",
    "import nibabel as nib\n",
    "from pathlib import Path\n",
    "\n",
    "# 导入 MedMask 库\n",
    "import sys\n",
    "sys.path.append('../')\n",
    "from medmask import SegmentationMask, MaskArchive\n",
    "from spacetransformer import Space\n",
    "\n",
    "# 数据准备\n",
    "data_dir = Path(\"s0000\")\n",
    "all_files = sorted(data_dir.glob(\"*.nii.gz\"))\n",
    "first_file = nib.load(all_files[0])\n",
    "space = Space.from_nifty(first_file).reverse_axis_order()\n",
    "\n",
    "print(f\"数据: {len(all_files)} 个器官文件\")\n",
    "print(f\"图像: {first_file.get_fdata().shape} @ {space.spacing[0]:.1f}mm\")\n",
    "\n",
    "# 计算传统方式总大小\n",
    "traditional_size = sum(f.stat().st_size for f in all_files)\n",
    "print(f\"传统总大小: {traditional_size / (1024*1024):.2f} MB\")\n"
   ]
  },
  {
   "cell_type": "markdown",
   "metadata": {
    "vscode": {
     "languageId": "raw"
    }
   },
   "source": [
    "## 两种处理方式对比\n",
    "\n",
    "### 方式一：独立语义掩膜\n",
    "每个器官作为独立的 `SegmentationMask`，便于单独访问和修改，大小较大，适用于会有重叠的掩码管理\n",
    "\n",
    "### 方式二：合并多标签掩膜  \n",
    "所有器官合并到一个多标签掩膜中，使用 `add_label()` 统一管理，大小更小，适用于没有重叠的掩码管理\n"
   ]
  },
  {
   "cell_type": "code",
   "execution_count": 10,
   "metadata": {},
   "outputs": [
    {
     "name": "stdout",
     "output_type": "stream",
     "text": [
      "方式一：创建独立掩膜归档...\n"
     ]
    },
    {
     "name": "stderr",
     "output_type": "stream",
     "text": [
      "/tmp/ipykernel_1147402/816815646.py:8: DeprecationWarning: __array__ implementation doesn't accept a copy keyword, so passing copy=False failed. __array__ must implement 'dtype' and 'copy' keyword arguments. To learn more, see the migration guide https://numpy.org/devdocs/numpy_2_0_migration_guide.html#adapting-to-changes-in-the-copy-keyword\n",
      "  mask_data = np.array(nii.dataobj)\n"
     ]
    },
    {
     "name": "stdout",
     "output_type": "stream",
     "text": [
      "方式二：创建合并掩膜归档...\n",
      "\n",
      "创建时间: 方式一 7.3s, 方式二 6.3s\n",
      "文件大小: 方式一 158KB, 方式二 92KB\n",
      "压缩比: 方式一 33.1:1, 方式二 56.7:1\n"
     ]
    }
   ],
   "source": [
    "# 方式一：独立语义掩膜\n",
    "print(\"方式一：创建独立掩膜归档...\")\n",
    "\n",
    "read_time = time.time()\n",
    "all_mask_data = {}\n",
    "for i, organ_file in enumerate(all_files):\n",
    "    nii = nib.load(organ_file)\n",
    "    mask_data = np.array(nii.dataobj)\n",
    "    all_mask_data[organ_file] = mask_data\n",
    "read_time = time.time() - read_time\n",
    "\n",
    "start_time = time.time()\n",
    "archive1 = MaskArchive(\"organs_individual.maska\", mode=\"w\", space=space)\n",
    "for i, organ_file in enumerate(all_files):\n",
    "    mask_data = all_mask_data[organ_file]\n",
    "    organ_name = organ_file.stem.replace('.nii', '')\n",
    "    \n",
    "    mask = SegmentationMask(\n",
    "        mask_array=mask_data.astype(np.uint8),\n",
    "        mapping={organ_name: 1},\n",
    "        space=space\n",
    "    )\n",
    "    archive1.add_mask(mask, organ_name)\n",
    "\n",
    "time1 = time.time() - start_time\n",
    "size1 = Path(\"organs_individual.maska\").stat().st_size\n",
    "\n",
    "# 方式二：合并多标签掩膜\n",
    "print(\"方式二：创建合并掩膜归档...\")\n",
    "start_time = time.time()\n",
    "\n",
    "archive2 = MaskArchive(\"organs_combined.maska\", mode=\"w\", space=space)\n",
    "combined_mask = SegmentationMask.lazy_init(bit_depth=8, space=space)\n",
    "all_keys = []\n",
    "for i, organ_file in enumerate(all_files):\n",
    "    nii = nib.load(organ_file)\n",
    "    mask_data = nii.get_fdata() > 0\n",
    "    organ_name = organ_file.stem.replace('.nii', '')\n",
    "    all_keys.append(organ_name)\n",
    "    combined_mask.add_label(mask_data, i + 1, organ_name)\n",
    "\n",
    "archive2.add_mask(combined_mask, \"all_organs_combined\")\n",
    "\n",
    "time2 = time.time() - start_time\n",
    "size2 = Path(\"organs_combined.maska\").stat().st_size\n",
    "\n",
    "print(f\"\\n创建时间: 方式一 {time1:.1f}s, 方式二 {time2:.1f}s\")\n",
    "print(f\"文件大小: 方式一 {size1/1024:.0f}KB, 方式二 {size2/1024:.0f}KB\")\n",
    "print(f\"压缩比: 方式一 {traditional_size/size1:.1f}:1, 方式二 {traditional_size/size2:.1f}:1\")\n"
   ]
  },
  {
   "cell_type": "code",
   "execution_count": 11,
   "metadata": {},
   "outputs": [
    {
     "name": "stdout",
     "output_type": "stream",
     "text": [
      "读取 117 个器官:\n",
      "传统方式: 1.499s\n",
      "方式1 (独立掩膜): 0.121s (加速 12.3x)\n",
      "方式2 (合并掩膜): 0.122s (加速 12.2x)\n"
     ]
    }
   ],
   "source": [
    "# 读取性能测试\n",
    "test_organs = all_keys\n",
    "\n",
    "# 测试传统方式\n",
    "traditional_read_time = read_time\n",
    "\n",
    "# 测试方式1 - 独立掩膜\n",
    "start = time.time()\n",
    "archive1_read = MaskArchive(\"organs_individual.maska\", mode=\"r\")\n",
    "for organ in test_organs:\n",
    "    mask = archive1_read.load_mask(organ)\n",
    "    data = mask.get_all_masks()\n",
    "method1_read_time = time.time() - start\n",
    "\n",
    "# 测试方式2 - 合并掩膜\n",
    "start = time.time()\n",
    "archive2_read = MaskArchive(\"organs_combined.maska\", mode=\"r\")\n",
    "all_organs = archive2_read.load_mask(\"all_organs_combined\")\n",
    "for organ in test_organs:\n",
    "    data = all_organs.get_mask_by_names(organ)\n",
    "method2_read_time = time.time() - start\n",
    "\n",
    "print(f\"读取 {len(test_organs)} 个器官:\")\n",
    "print(f\"传统方式: {traditional_read_time:.3f}s\")\n",
    "speedup1 = traditional_read_time / method1_read_time\n",
    "print(f\"方式1 (独立掩膜): {method1_read_time:.3f}s (加速 {speedup1:.1f}x)\")\n",
    "speedup2 = traditional_read_time / method2_read_time\n",
    "print(f\"方式2 (合并掩膜): {method2_read_time:.3f}s (加速 {speedup2:.1f}x)\")\n",
    "\n"
   ]
  },
  {
   "cell_type": "markdown",
   "metadata": {
    "vscode": {
     "languageId": "raw"
    }
   },
   "source": [
    "## 重叠掩膜优势 - 肋骨示例\n",
    "\n",
    "展示在同一个归档中存储多个粒度的掩膜：\n",
    "- 24个单独肋骨\n",
    "- 左侧/右侧肋骨组合  \n",
    "- 上/下肋骨组合\n",
    "- 所有肋骨合并\n",
    "\n",
    "支持从单个肋骨到全局肋骨的多层次查询。\n"
   ]
  },
  {
   "cell_type": "code",
   "execution_count": 12,
   "metadata": {},
   "outputs": [
    {
     "name": "stdout",
     "output_type": "stream",
     "text": [
      "处理 24 个肋骨文件...\n",
      "肋骨归档: 27 个掩膜, 14KB\n"
     ]
    }
   ],
   "source": [
    "# 肋骨掩膜合并示例\n",
    "rib_files = sorted(data_dir.glob(\"rib_*.nii.gz\"))\n",
    "ribs_archive = MaskArchive(\"ribs_archive.maska\", mode=\"w\", space=space)\n",
    "\n",
    "# 准备组合掩膜\n",
    "shape = first_file.get_fdata().shape\n",
    "left_ribs = np.zeros(shape, dtype=bool)\n",
    "right_ribs = np.zeros(shape, dtype=bool)\n",
    "all_ribs = np.zeros(shape, dtype=bool)\n",
    "upper_ribs = np.zeros(shape, dtype=bool)  \n",
    "lower_ribs = np.zeros(shape, dtype=bool)\n",
    "\n",
    "print(f\"处理 {len(rib_files)} 个肋骨文件...\")\n",
    "\n",
    "# 处理每个肋骨\n",
    "for rib_file in rib_files:\n",
    "    nii = nib.load(rib_file)\n",
    "    rib_data = nii.get_fdata() > 0\n",
    "    rib_name = rib_file.stem.replace('.nii', '')\n",
    "    \n",
    "    # 添加单独肋骨\n",
    "    mask = SegmentationMask(rib_data.astype(np.uint8), {rib_name: 1}, space)\n",
    "    ribs_archive.add_mask(mask, rib_name)\n",
    "    \n",
    "    # 合并到组合掩膜\n",
    "    all_ribs |= rib_data\n",
    "    if 'left' in rib_name:\n",
    "        left_ribs |= rib_data\n",
    "    elif 'right' in rib_name:\n",
    "        right_ribs |= rib_data\n",
    "    \n",
    "    # 上下分组\n",
    "    for i in range(1, 13):\n",
    "        if f'_{i}' in rib_name:\n",
    "            if i <= 6:\n",
    "                upper_ribs |= rib_data\n",
    "            else:\n",
    "                lower_ribs |= rib_data\n",
    "            break\n",
    "\n",
    "# 添加组合掩膜\n",
    "combinations = [\n",
    "    (\"all_ribs\", all_ribs), (\"left_ribs\", left_ribs), (\"right_ribs\", right_ribs),\n",
    "    (\"upper_ribs\", upper_ribs), (\"lower_ribs\", lower_ribs)\n",
    "]\n",
    "\n",
    "for name, mask_data in combinations:\n",
    "    if np.any(mask_data):\n",
    "        mask = SegmentationMask(mask_data.astype(np.uint8), {name: 1}, space)\n",
    "        ribs_archive.add_mask(mask, name)\n",
    "\n",
    "rib_size = Path(\"ribs_archive.maska\").stat().st_size\n",
    "print(f\"肋骨归档: {len(ribs_archive.all_names())} 个掩膜, {rib_size/1024:.0f}KB\")\n"
   ]
  },
  {
   "cell_type": "markdown",
   "metadata": {
    "vscode": {
     "languageId": "raw"
    }
   },
   "source": [
    "## 应用场景\n",
    "\n",
    "**独立掩膜方式** 适合：\n",
    "- 频繁访问单个器官\n",
    "- 独立修改特定区域\n",
    "- 模块化数据管理\n",
    "\n",
    "**合并掩膜方式** 适合：\n",
    "- 全局器官分析\n",
    "- 统一标签管理\n",
    "- 最大化存储效率\n",
    "\n",
    "**重叠掩膜** 支持：\n",
    "- 多粒度的解剖学查询\n",
    "- 层次化的器官组织\n",
    "- 灵活的区域组合分析\n",
    "\n",
    "---\n",
    "\n",
    "MedMask 通过先进的压缩技术、语义化设计和灵活的API，为医学图像分割掩膜提供了全面的解决方案。\n"
   ]
  }
 ],
 "metadata": {
  "kernelspec": {
   "display_name": "Python 3",
   "language": "python",
   "name": "python3"
  },
  "language_info": {
   "codemirror_mode": {
    "name": "ipython",
    "version": 3
   },
   "file_extension": ".py",
   "mimetype": "text/x-python",
   "name": "python",
   "nbconvert_exporter": "python",
   "pygments_lexer": "ipython3",
   "version": "3.10.0"
  }
 },
 "nbformat": 4,
 "nbformat_minor": 2
}
